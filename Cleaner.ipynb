{
 "cells": [
  {
   "cell_type": "code",
   "execution_count": null,
   "id": "cccf3e54",
   "metadata": {
    "scrolled": true
   },
   "outputs": [],
   "source": [
    "# Data Cleaning"
   ]
  },
  {
   "cell_type": "code",
   "execution_count": null,
   "id": "bd18a1e3",
   "metadata": {
    "scrolled": true
   },
   "outputs": [],
   "source": [
    "import pandas as pd"
   ]
  },
  {
   "cell_type": "code",
   "execution_count": null,
   "id": "75e574bd",
   "metadata": {
    "scrolled": true
   },
   "outputs": [],
   "source": [
    "data = pd.read_csv(r'C:\\Users\\Sanjay Ram R R\\Downloads\\DAV - Datasets\\Processed\\MyScraped - Samsung - (1 to 4).csv')\n",
    "data"
   ]
  },
  {
   "cell_type": "code",
   "execution_count": null,
   "id": "4670f8b0",
   "metadata": {
    "scrolled": true
   },
   "outputs": [],
   "source": [
    "rows, cols = data.shape\n",
    "rows"
   ]
  },
  {
   "cell_type": "code",
   "execution_count": null,
   "id": "023565a0",
   "metadata": {
    "scrolled": true
   },
   "outputs": [],
   "source": [
    "data.isnull()"
   ]
  },
  {
   "cell_type": "code",
   "execution_count": null,
   "id": "26e97b35",
   "metadata": {
    "scrolled": true
   },
   "outputs": [],
   "source": [
    "data.isnull().sum()"
   ]
  },
  {
   "cell_type": "code",
   "execution_count": null,
   "id": "4f7d3875",
   "metadata": {
    "scrolled": true
   },
   "outputs": [],
   "source": [
    "data.isnull().sum().sum()"
   ]
  },
  {
   "cell_type": "code",
   "execution_count": null,
   "id": "9ee5450a",
   "metadata": {
    "scrolled": true
   },
   "outputs": [],
   "source": [
    "# Now that we know how many null values are there. Lets check for duplicates"
   ]
  },
  {
   "cell_type": "code",
   "execution_count": null,
   "id": "e48e40b6",
   "metadata": {
    "scrolled": true
   },
   "outputs": [],
   "source": [
    "data.duplicated().any()"
   ]
  },
  {
   "cell_type": "code",
   "execution_count": null,
   "id": "c73e88d8",
   "metadata": {
    "scrolled": true
   },
   "outputs": [],
   "source": [
    "# Now lets go through column by column, filtering only the data that we need and removing unwanted data from the raw data"
   ]
  },
  {
   "cell_type": "code",
   "execution_count": null,
   "id": "dfa91748",
   "metadata": {
    "scrolled": true
   },
   "outputs": [],
   "source": [
    "data.columns"
   ]
  },
  {
   "cell_type": "code",
   "execution_count": null,
   "id": "545d3423",
   "metadata": {
    "scrolled": true
   },
   "outputs": [],
   "source": [
    "for i in range(0, rows):\n",
    "    data.loc[i, \"Release date\"] = data.loc[i, \"Release date\"].split(\" \", 1).pop(1)\n",
    "    print(data.loc[i, \"Release date\"])"
   ]
  },
  {
   "cell_type": "code",
   "execution_count": null,
   "id": "99519597",
   "metadata": {
    "scrolled": true
   },
   "outputs": [],
   "source": [
    "for i in range(0, rows):\n",
    "    data.loc[i, \"Weight\"] = data.loc[i, \"Weight\"].split(\"g,\", 1).pop(0)\n",
    "    print(data.loc[i, \"Weight\"])"
   ]
  },
  {
   "cell_type": "code",
   "execution_count": null,
   "id": "db9d13b0",
   "metadata": {},
   "outputs": [],
   "source": [
    "for i in range(0, rows):\n",
    "    data.loc[i, \"OS\"] = data.loc[i, \"OS\"].split(\",\", 1).pop(0)\n",
    "    print(data.loc[i, \"OS\"])"
   ]
  },
  {
   "cell_type": "code",
   "execution_count": null,
   "id": "ab5cc4c8",
   "metadata": {},
   "outputs": [],
   "source": [
    "for i in range(0, rows):\n",
    "    data.loc[i, \"Storage\"] = data.loc[i, \"Storage\"].split(\"GB\", 1).pop(0)\n",
    "    print(data.loc[i, \"Storage\"])"
   ]
  },
  {
   "cell_type": "code",
   "execution_count": null,
   "id": "58a661f2",
   "metadata": {},
   "outputs": [],
   "source": [
    "for i in range(0, rows):\n",
    "    data.loc[i, \"Screen_size\"] = data.loc[i, \"Screen_size\"].split('\"', 1).pop(0)\n",
    "    print(data.loc[i, \"Screen_size\"])"
   ]
  },
  {
   "cell_type": "code",
   "execution_count": null,
   "id": "7173fcfe",
   "metadata": {},
   "outputs": [],
   "source": [
    "for i in range(0, rows):\n",
    "    data.loc[i, \"Screen_resolution\"] = data.loc[i, \"Screen_resolution\"].split(\" \", 1).pop(0)\n",
    "    print(data.loc[i, \"Screen_resolution\"])"
   ]
  },
  {
   "cell_type": "code",
   "execution_count": null,
   "id": "83366500",
   "metadata": {},
   "outputs": [],
   "source": [
    "for i in range(0, rows):\n",
    "    data.loc[i, \"RAM\"] = data.loc[i, \"RAM\"].split(\" GB\", 1).pop(0)\n",
    "    \n",
    "    if '/' in data.loc[i, \"RAM\"]:\n",
    "        data.loc[i, \"RAM\"] = data.loc[i, \"RAM\"].split(\"/\", 1).pop(0)\n",
    "    \n",
    "    print(data.loc[i, \"RAM\"])"
   ]
  },
  {
   "cell_type": "code",
   "execution_count": null,
   "id": "defbd041",
   "metadata": {},
   "outputs": [],
   "source": [
    "for i in range(0, rows):\n",
    "    data.loc[i, \"Battery\"] = data.loc[i, \"Battery\"].split(\" mAh\", 1).pop(0)\n",
    "    print(data.loc[i, \"Battery\"])"
   ]
  },
  {
   "cell_type": "code",
   "execution_count": null,
   "id": "b3d2c032",
   "metadata": {},
   "outputs": [],
   "source": [
    "for i in range(0, rows):\n",
    "    \n",
    "    if ' MP' in data.loc[i, \"Camera\"]:\n",
    "        data.loc[i, \"Camera\"] = data.loc[i, \"Camera\"].split(\" MP\", 1).pop(0)\n",
    "    print(data.loc[i, \"Camera\"])"
   ]
  },
  {
   "cell_type": "code",
   "execution_count": null,
   "id": "5421f704",
   "metadata": {},
   "outputs": [],
   "source": [
    "data = data[data[\"Name\"].str.contains(\"Watch\") == False]\n",
    "data = data[data[\"Name\"].str.contains(\"Tab\") == False]\n",
    "\n",
    "# For Samsung\n",
    "data = data[data[\"Name\"].str.contains(\"Gear\") == False]\n",
    "\n",
    "data"
   ]
  },
  {
   "cell_type": "code",
   "execution_count": null,
   "id": "417532b8",
   "metadata": {},
   "outputs": [],
   "source": [
    "rows, cols = data.shape\n",
    "rows"
   ]
  },
  {
   "cell_type": "code",
   "execution_count": null,
   "id": "fc701a7c",
   "metadata": {},
   "outputs": [],
   "source": [
    "columns_to_keep = ['Link', 'Image', 'Name', 'Release date', 'Weight', 'OS', 'Storage', 'Screen_size', 'Screen_resolution', 'RAM', 'Battery', 'Camera', 'Price']\n",
    "\n",
    "# select only the desired columns using the loc[] accessor\n",
    "data = data.loc[:, columns_to_keep]\n",
    "data"
   ]
  },
  {
   "cell_type": "code",
   "execution_count": null,
   "id": "00af58dc",
   "metadata": {},
   "outputs": [],
   "source": [
    "data.to_csv('Samsung.csv', index=False)"
   ]
  },
  {
   "cell_type": "code",
   "execution_count": null,
   "id": "b6b677d3",
   "metadata": {},
   "outputs": [],
   "source": []
  }
 ],
 "metadata": {
  "kernelspec": {
   "display_name": "Python 3 (ipykernel)",
   "language": "python",
   "name": "python3"
  },
  "language_info": {
   "codemirror_mode": {
    "name": "ipython",
    "version": 3
   },
   "file_extension": ".py",
   "mimetype": "text/x-python",
   "name": "python",
   "nbconvert_exporter": "python",
   "pygments_lexer": "ipython3",
   "version": "3.9.13"
  }
 },
 "nbformat": 4,
 "nbformat_minor": 5
}
